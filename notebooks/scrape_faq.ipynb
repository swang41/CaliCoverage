{
 "cells": [
  {
   "cell_type": "code",
   "execution_count": 1,
   "id": "f927950f",
   "metadata": {},
   "outputs": [],
   "source": [
    "import re\n",
    "import time\n",
    "import pandas as pd\n",
    "import requests\n",
    "from bs4 import BeautifulSoup, Tag, NavigableString"
   ]
  },
  {
   "cell_type": "code",
   "execution_count": 7,
   "id": "edfa03dc",
   "metadata": {},
   "outputs": [],
   "source": [
    "# ----------------- helpers -----------------\n",
    "def fetch(url: str) -> str:\n",
    "    s = requests.Session()\n",
    "    s.headers.update({\n",
    "        \"User-Agent\": \"Mozilla/5.0 (compatible; DHCS-FAQ-Scraper/1.0)\",\n",
    "        \"Accept\": \"text/html,application/xhtml+xml,application/xml;q=0.9,*/*;q=0.8\",\n",
    "        \"Accept-Language\": \"en-US,en;q=0.9\",\n",
    "    })\n",
    "    r = s.get(url, timeout=30)\n",
    "    r.raise_for_status()\n",
    "    return r.text\n",
    "\n",
    "def norm(s: str) -> str:\n",
    "    return re.sub(r\"\\s+\", \" \", s or \"\").strip()\n",
    "\n",
    "def strip_zw(s: str) -> str:\n",
    "    # remove common zero-width chars from CMS pages\n",
    "    return re.sub(r\"[\\u200B-\\u200D\\uFEFF]\", \"\", s or \"\")\n",
    "\n",
    "def nearest_category(tag: Tag) -> str:\n",
    "    # category = nearest previous <h2>\n",
    "    h2 = tag.find_previous(\"h2\")\n",
    "    return norm(strip_zw(h2.get_text(\" \", strip=True))) if h2 else \"Uncategorized\"\n",
    "\n",
    "def is_hightlighted_question(tag: Tag) -> bool:\n",
    "    # highlighted questions are in <p> with <strong> which has <a> with id starting with '#'\n",
    "    if tag.name != \"p\":\n",
    "        return False\n",
    "    strong = tag.find(\"strong\")\n",
    "    if not strong:\n",
    "        return False\n",
    "    a = strong.find(\"a\", id=True)\n",
    "    if not a or not a[\"id\"].startswith(\"#\"):\n",
    "        return False\n",
    "    return True\n",
    "\n",
    "def collect_answer(start_tag: Tag, next_qnode: Tag | None, is_header_question: bool) -> str:\n",
    "    parts = []\n",
    "    sib = start_tag.next_sibling\n",
    "\n",
    "    while sib and sib is not next_qnode:\n",
    "        # skip whitespace nodes\n",
    "        if not isinstance(sib, Tag):\n",
    "            sib = sib.next_sibling\n",
    "            continue\n",
    "\n",
    "        # stop at a new section or a new question\n",
    "        if sib.name == \"h2\":\n",
    "            break\n",
    "        if (sib.name in (\"h3\", \"h4\") and is_header_question) or (not is_header_question and is_hightlighted_question(sib)):\n",
    "            break\n",
    "\n",
    "        if sib.name in (\"p\", \"div\", \"ul\", \"ol\", \"table\", \"blockquote\"):\n",
    "            txt = norm(strip_zw(sib.get_text(\" \", strip=True)))\n",
    "            if txt and not re.fullmatch(r\"(?i)back to top\", txt):\n",
    "                parts.append(txt)\n",
    "\n",
    "        sib = sib.next_sibling\n",
    "\n",
    "    return \"\\n\".join(parts)\n"
   ]
  },
  {
   "cell_type": "code",
   "execution_count": 8,
   "id": "4ba1bf11",
   "metadata": {},
   "outputs": [],
   "source": [
    "# ----------------- main -----------------\n",
    "def scrape_answer_page(url: str, is_header_question: bool) -> pd.DataFrame:\n",
    "    soup = BeautifulSoup(fetch(url), \"lxml\")\n",
    "\n",
    "    # Collect question nodes in document order:\n",
    "    # - any <h3>/<h4>\n",
    "    # - any <p> that contains a descendant <a id=\"...\"> (highlight style)\n",
    "    question_nodes: list[Tag] = []\n",
    "    for node in soup.find_all(True):\n",
    "        if is_header_question and node.name in (\"h3\", \"h4\"):\n",
    "            question_nodes.append(node)\n",
    "        elif not is_header_question and is_hightlighted_question(node):\n",
    "            question_nodes.append(node)\n",
    "\n",
    "    rows = []\n",
    "    for i, qnode in enumerate(question_nodes):\n",
    "        question_text = norm(strip_zw(qnode.get_text(\" \", strip=True)))\n",
    "        category = nearest_category(qnode)\n",
    "\n",
    "        next_qnode = question_nodes[i + 1] if i + 1 < len(question_nodes) else None\n",
    "        answer = collect_answer(qnode, next_qnode, is_header_question)\n",
    "\n",
    "        rows.append({\n",
    "            \"category\": category,\n",
    "            \"question\": question_text,\n",
    "            \"answer\": answer\n",
    "        })\n",
    "\n",
    "    return pd.DataFrame(rows, columns=[\"category\", \"question\", \"answer\"])"
   ]
  },
  {
   "cell_type": "code",
   "execution_count": 9,
   "id": "d8901b1a",
   "metadata": {},
   "outputs": [
    {
     "name": "stdout",
     "output_type": "stream",
     "text": [
      "                  category                                           question  \\\n",
      "0  Citizenship/Immigration  1 . What eligibility requirements will an undo...   \n",
      "1  Citizenship/Immigration  5 . Where can I get information about becoming...   \n",
      "2  Citizenship/Immigration  6 . Will the information I provide for health ...   \n",
      "3  Citizenship/Immigration  7 . Can people on H-1 visas, including those w...   \n",
      "4  Citizenship/Immigration  8 . Can green card holders, including those wh...   \n",
      "\n",
      "                                              answer  \n",
      "0  An undocumented person must meet the same elig...  \n",
      "1  If you are not registered to vote where you li...  \n",
      "2  Immigration status is verified for documented ...  \n",
      "3  Yes. In general, anyone can apply for Medi-Cal...  \n",
      "4  Yes. A lawful permanent resident (green card h...  \n"
     ]
    }
   ],
   "source": [
    "# Example:\n",
    "url = \"https://www.dhcs.ca.gov/services/medi-cal/eligibility/Pages/Medi-CalFAQs2014b.aspx\"\n",
    "df = scrape_answer_page(url, is_header_question=False)\n",
    "print(df.head())"
   ]
  },
  {
   "cell_type": "code",
   "execution_count": null,
   "id": "ca2adad3",
   "metadata": {},
   "outputs": [],
   "source": []
  }
 ],
 "metadata": {
  "kernelspec": {
   "display_name": "Python 3",
   "language": "python",
   "name": "python3"
  },
  "language_info": {
   "codemirror_mode": {
    "name": "ipython",
    "version": 3
   },
   "file_extension": ".py",
   "mimetype": "text/x-python",
   "name": "python",
   "nbconvert_exporter": "python",
   "pygments_lexer": "ipython3",
   "version": "3.12.1"
  }
 },
 "nbformat": 4,
 "nbformat_minor": 5
}
